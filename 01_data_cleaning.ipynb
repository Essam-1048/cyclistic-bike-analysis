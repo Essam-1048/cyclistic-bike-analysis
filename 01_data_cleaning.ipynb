{
 "cells": [
  {
   "cell_type": "markdown",
   "id": "eadc12e1",
   "metadata": {},
   "source": [
    "01. Importing relevant Library & CSV file."
   ]
  },
  {
   "cell_type": "code",
   "execution_count": null,
   "id": "2b3b4248",
   "metadata": {},
   "outputs": [
    {
     "name": "stdout",
     "output_type": "stream",
     "text": [
      "Data loaded sucessfully\n",
      "Total rows: 426887\n"
     ]
    },
    {
     "data": {
      "text/html": [
       "<div>\n",
       "<style scoped>\n",
       "    .dataframe tbody tr th:only-of-type {\n",
       "        vertical-align: middle;\n",
       "    }\n",
       "\n",
       "    .dataframe tbody tr th {\n",
       "        vertical-align: top;\n",
       "    }\n",
       "\n",
       "    .dataframe thead th {\n",
       "        text-align: right;\n",
       "    }\n",
       "</style>\n",
       "<table border=\"1\" class=\"dataframe\">\n",
       "  <thead>\n",
       "    <tr style=\"text-align: right;\">\n",
       "      <th></th>\n",
       "      <th>ride_id</th>\n",
       "      <th>rideable_type</th>\n",
       "      <th>started_at</th>\n",
       "      <th>ended_at</th>\n",
       "      <th>start_station_name</th>\n",
       "      <th>start_station_id</th>\n",
       "      <th>end_station_name</th>\n",
       "      <th>end_station_id</th>\n",
       "      <th>start_lat</th>\n",
       "      <th>start_lng</th>\n",
       "      <th>end_lat</th>\n",
       "      <th>end_lng</th>\n",
       "      <th>member_casual</th>\n",
       "    </tr>\n",
       "  </thead>\n",
       "  <tbody>\n",
       "    <tr>\n",
       "      <th>0</th>\n",
       "      <td>EACB19130B0CDA4A</td>\n",
       "      <td>docked_bike</td>\n",
       "      <td>2020-01-21 20:06:59</td>\n",
       "      <td>2020-01-21 20:14:30</td>\n",
       "      <td>Western Ave &amp; Leland Ave</td>\n",
       "      <td>239</td>\n",
       "      <td>Clark St &amp; Leland Ave</td>\n",
       "      <td>326.0</td>\n",
       "      <td>41.9665</td>\n",
       "      <td>-87.6884</td>\n",
       "      <td>41.9671</td>\n",
       "      <td>-87.6674</td>\n",
       "      <td>member</td>\n",
       "    </tr>\n",
       "    <tr>\n",
       "      <th>1</th>\n",
       "      <td>8FED874C809DC021</td>\n",
       "      <td>docked_bike</td>\n",
       "      <td>2020-01-30 14:22:39</td>\n",
       "      <td>2020-01-30 14:26:22</td>\n",
       "      <td>Clark St &amp; Montrose Ave</td>\n",
       "      <td>234</td>\n",
       "      <td>Southport Ave &amp; Irving Park Rd</td>\n",
       "      <td>318.0</td>\n",
       "      <td>41.9616</td>\n",
       "      <td>-87.6660</td>\n",
       "      <td>41.9542</td>\n",
       "      <td>-87.6644</td>\n",
       "      <td>member</td>\n",
       "    </tr>\n",
       "    <tr>\n",
       "      <th>2</th>\n",
       "      <td>789F3C21E472CA96</td>\n",
       "      <td>docked_bike</td>\n",
       "      <td>2020-01-09 19:29:26</td>\n",
       "      <td>2020-01-09 19:32:17</td>\n",
       "      <td>Broadway &amp; Belmont Ave</td>\n",
       "      <td>296</td>\n",
       "      <td>Wilton Ave &amp; Belmont Ave</td>\n",
       "      <td>117.0</td>\n",
       "      <td>41.9401</td>\n",
       "      <td>-87.6455</td>\n",
       "      <td>41.9402</td>\n",
       "      <td>-87.6530</td>\n",
       "      <td>member</td>\n",
       "    </tr>\n",
       "    <tr>\n",
       "      <th>3</th>\n",
       "      <td>C9A388DAC6ABF313</td>\n",
       "      <td>docked_bike</td>\n",
       "      <td>2020-01-06 16:17:07</td>\n",
       "      <td>2020-01-06 16:25:56</td>\n",
       "      <td>Clark St &amp; Randolph St</td>\n",
       "      <td>51</td>\n",
       "      <td>Fairbanks Ct &amp; Grand Ave</td>\n",
       "      <td>24.0</td>\n",
       "      <td>41.8846</td>\n",
       "      <td>-87.6319</td>\n",
       "      <td>41.8918</td>\n",
       "      <td>-87.6206</td>\n",
       "      <td>member</td>\n",
       "    </tr>\n",
       "    <tr>\n",
       "      <th>4</th>\n",
       "      <td>943BC3CBECCFD662</td>\n",
       "      <td>docked_bike</td>\n",
       "      <td>2020-01-30 08:37:16</td>\n",
       "      <td>2020-01-30 08:42:48</td>\n",
       "      <td>Clinton St &amp; Lake St</td>\n",
       "      <td>66</td>\n",
       "      <td>Wells St &amp; Hubbard St</td>\n",
       "      <td>212.0</td>\n",
       "      <td>41.8856</td>\n",
       "      <td>-87.6418</td>\n",
       "      <td>41.8899</td>\n",
       "      <td>-87.6343</td>\n",
       "      <td>member</td>\n",
       "    </tr>\n",
       "  </tbody>\n",
       "</table>\n",
       "</div>"
      ],
      "text/plain": [
       "            ride_id rideable_type           started_at             ended_at  \\\n",
       "0  EACB19130B0CDA4A   docked_bike  2020-01-21 20:06:59  2020-01-21 20:14:30   \n",
       "1  8FED874C809DC021   docked_bike  2020-01-30 14:22:39  2020-01-30 14:26:22   \n",
       "2  789F3C21E472CA96   docked_bike  2020-01-09 19:29:26  2020-01-09 19:32:17   \n",
       "3  C9A388DAC6ABF313   docked_bike  2020-01-06 16:17:07  2020-01-06 16:25:56   \n",
       "4  943BC3CBECCFD662   docked_bike  2020-01-30 08:37:16  2020-01-30 08:42:48   \n",
       "\n",
       "         start_station_name  start_station_id                end_station_name  \\\n",
       "0  Western Ave & Leland Ave               239           Clark St & Leland Ave   \n",
       "1   Clark St & Montrose Ave               234  Southport Ave & Irving Park Rd   \n",
       "2    Broadway & Belmont Ave               296        Wilton Ave & Belmont Ave   \n",
       "3    Clark St & Randolph St                51        Fairbanks Ct & Grand Ave   \n",
       "4      Clinton St & Lake St                66           Wells St & Hubbard St   \n",
       "\n",
       "   end_station_id  start_lat  start_lng  end_lat  end_lng member_casual  \n",
       "0           326.0    41.9665   -87.6884  41.9671 -87.6674        member  \n",
       "1           318.0    41.9616   -87.6660  41.9542 -87.6644        member  \n",
       "2           117.0    41.9401   -87.6455  41.9402 -87.6530        member  \n",
       "3            24.0    41.8846   -87.6319  41.8918 -87.6206        member  \n",
       "4           212.0    41.8856   -87.6418  41.8899 -87.6343        member  "
      ]
     },
     "execution_count": 13,
     "metadata": {},
     "output_type": "execute_result"
    }
   ],
   "source": [
    "import pandas as pd\n",
    "\n",
    "cyclist_data_raw = pd.read_csv(\"C:/Users/User/Downloads/Divvy_Trips_2020_Q1/raw_data.csv\")\n",
    "\n",
    "# Confirm that the data loaded correctly and shows the number of rows within the dataset.\n",
    "print(\"Data loaded sucessfully\")\n",
    "print(\"Total rows:\", len(cyclist_data_raw))\n",
    "cyclist_data_raw.head()"
   ]
  },
  {
   "cell_type": "markdown",
   "id": "bc00aa92",
   "metadata": {},
   "source": [
    "02. Understanding the data."
   ]
  },
  {
   "cell_type": "code",
   "execution_count": 14,
   "id": "0109a1cf",
   "metadata": {},
   "outputs": [
    {
     "name": "stdout",
     "output_type": "stream",
     "text": [
      "<class 'pandas.core.frame.DataFrame'>\n",
      "RangeIndex: 426887 entries, 0 to 426886\n",
      "Data columns (total 13 columns):\n",
      " #   Column              Non-Null Count   Dtype  \n",
      "---  ------              --------------   -----  \n",
      " 0   ride_id             426887 non-null  object \n",
      " 1   rideable_type       426887 non-null  object \n",
      " 2   started_at          426887 non-null  object \n",
      " 3   ended_at            426887 non-null  object \n",
      " 4   start_station_name  426887 non-null  object \n",
      " 5   start_station_id    426887 non-null  int64  \n",
      " 6   end_station_name    426886 non-null  object \n",
      " 7   end_station_id      426886 non-null  float64\n",
      " 8   start_lat           426887 non-null  float64\n",
      " 9   start_lng           426887 non-null  float64\n",
      " 10  end_lat             426886 non-null  float64\n",
      " 11  end_lng             426886 non-null  float64\n",
      " 12  member_casual       426887 non-null  object \n",
      "dtypes: float64(5), int64(1), object(7)\n",
      "memory usage: 42.3+ MB\n"
     ]
    }
   ],
   "source": [
    "cyclist_data_raw.info()"
   ]
  },
  {
   "cell_type": "code",
   "execution_count": null,
   "id": "aa96ed91",
   "metadata": {},
   "outputs": [
    {
     "data": {
      "text/html": [
       "<div>\n",
       "<style scoped>\n",
       "    .dataframe tbody tr th:only-of-type {\n",
       "        vertical-align: middle;\n",
       "    }\n",
       "\n",
       "    .dataframe tbody tr th {\n",
       "        vertical-align: top;\n",
       "    }\n",
       "\n",
       "    .dataframe thead th {\n",
       "        text-align: right;\n",
       "    }\n",
       "</style>\n",
       "<table border=\"1\" class=\"dataframe\">\n",
       "  <thead>\n",
       "    <tr style=\"text-align: right;\">\n",
       "      <th></th>\n",
       "      <th>start_station_id</th>\n",
       "      <th>end_station_id</th>\n",
       "      <th>start_lat</th>\n",
       "      <th>start_lng</th>\n",
       "      <th>end_lat</th>\n",
       "      <th>end_lng</th>\n",
       "    </tr>\n",
       "  </thead>\n",
       "  <tbody>\n",
       "    <tr>\n",
       "      <th>count</th>\n",
       "      <td>426886.000000</td>\n",
       "      <td>426886.000000</td>\n",
       "      <td>426886.000000</td>\n",
       "      <td>426886.000000</td>\n",
       "      <td>426886.000000</td>\n",
       "      <td>426886.000000</td>\n",
       "    </tr>\n",
       "    <tr>\n",
       "      <th>mean</th>\n",
       "      <td>209.796709</td>\n",
       "      <td>209.337947</td>\n",
       "      <td>41.897846</td>\n",
       "      <td>-87.644157</td>\n",
       "      <td>41.897998</td>\n",
       "      <td>-87.644254</td>\n",
       "    </tr>\n",
       "    <tr>\n",
       "      <th>std</th>\n",
       "      <td>163.221528</td>\n",
       "      <td>163.198129</td>\n",
       "      <td>0.038080</td>\n",
       "      <td>0.022666</td>\n",
       "      <td>0.038315</td>\n",
       "      <td>0.022662</td>\n",
       "    </tr>\n",
       "    <tr>\n",
       "      <th>min</th>\n",
       "      <td>2.000000</td>\n",
       "      <td>2.000000</td>\n",
       "      <td>41.736600</td>\n",
       "      <td>-87.774700</td>\n",
       "      <td>41.736600</td>\n",
       "      <td>-87.774700</td>\n",
       "    </tr>\n",
       "    <tr>\n",
       "      <th>25%</th>\n",
       "      <td>77.000000</td>\n",
       "      <td>77.000000</td>\n",
       "      <td>41.880300</td>\n",
       "      <td>-87.655000</td>\n",
       "      <td>41.880300</td>\n",
       "      <td>-87.655500</td>\n",
       "    </tr>\n",
       "    <tr>\n",
       "      <th>50%</th>\n",
       "      <td>176.000000</td>\n",
       "      <td>175.000000</td>\n",
       "      <td>41.890600</td>\n",
       "      <td>-87.639900</td>\n",
       "      <td>41.890600</td>\n",
       "      <td>-87.640800</td>\n",
       "    </tr>\n",
       "    <tr>\n",
       "      <th>75%</th>\n",
       "      <td>298.000000</td>\n",
       "      <td>297.000000</td>\n",
       "      <td>41.915700</td>\n",
       "      <td>-87.629500</td>\n",
       "      <td>41.916000</td>\n",
       "      <td>-87.629500</td>\n",
       "    </tr>\n",
       "    <tr>\n",
       "      <th>max</th>\n",
       "      <td>675.000000</td>\n",
       "      <td>675.000000</td>\n",
       "      <td>42.064900</td>\n",
       "      <td>-87.549400</td>\n",
       "      <td>42.064900</td>\n",
       "      <td>-87.549400</td>\n",
       "    </tr>\n",
       "  </tbody>\n",
       "</table>\n",
       "</div>"
      ],
      "text/plain": [
       "       start_station_id  end_station_id      start_lat      start_lng  \\\n",
       "count     426886.000000   426886.000000  426886.000000  426886.000000   \n",
       "mean         209.796709      209.337947      41.897846     -87.644157   \n",
       "std          163.221528      163.198129       0.038080       0.022666   \n",
       "min            2.000000        2.000000      41.736600     -87.774700   \n",
       "25%           77.000000       77.000000      41.880300     -87.655000   \n",
       "50%          176.000000      175.000000      41.890600     -87.639900   \n",
       "75%          298.000000      297.000000      41.915700     -87.629500   \n",
       "max          675.000000      675.000000      42.064900     -87.549400   \n",
       "\n",
       "             end_lat        end_lng  \n",
       "count  426886.000000  426886.000000  \n",
       "mean       41.897998     -87.644254  \n",
       "std         0.038315       0.022662  \n",
       "min        41.736600     -87.774700  \n",
       "25%        41.880300     -87.655500  \n",
       "50%        41.890600     -87.640800  \n",
       "75%        41.916000     -87.629500  \n",
       "max        42.064900     -87.549400  "
      ]
     },
     "execution_count": 18,
     "metadata": {},
     "output_type": "execute_result"
    }
   ],
   "source": [
    "cyclist_data_raw.describe()"
   ]
  },
  {
   "cell_type": "code",
   "execution_count": null,
   "id": "920176f1",
   "metadata": {},
   "outputs": [
    {
     "data": {
      "text/plain": [
       "Index(['ride_id', 'rideable_type', 'started_at', 'ended_at',\n",
       "       'start_station_name', 'start_station_id', 'end_station_name',\n",
       "       'end_station_id', 'start_lat', 'start_lng', 'end_lat', 'end_lng',\n",
       "       'member_casual'],\n",
       "      dtype='object')"
      ]
     },
     "execution_count": 21,
     "metadata": {},
     "output_type": "execute_result"
    }
   ],
   "source": [
    "cyclist_data_raw.columns"
   ]
  },
  {
   "cell_type": "code",
   "execution_count": null,
   "id": "34d685fa",
   "metadata": {},
   "outputs": [
    {
     "data": {
      "text/plain": [
       "member_casual\n",
       "member    378407\n",
       "casual     48479\n",
       "Name: count, dtype: int64"
      ]
     },
     "execution_count": 20,
     "metadata": {},
     "output_type": "execute_result"
    }
   ],
   "source": [
    "# Using Value_Counts to find out how many customers are members and how many are casuals.\n",
    "cyclist_data_raw[\"member_casual\"].value_counts()"
   ]
  },
  {
   "cell_type": "markdown",
   "id": "21c7cb0b",
   "metadata": {},
   "source": [
    "03. Cleaning the data."
   ]
  },
  {
   "cell_type": "code",
   "execution_count": 22,
   "id": "3f36b60e",
   "metadata": {},
   "outputs": [
    {
     "name": "stdout",
     "output_type": "stream",
     "text": [
      "Missing Station names removed.\n"
     ]
    }
   ],
   "source": [
    "cyclist_data_raw = cyclist_data_raw.dropna(subset=[\"start_station_name\", \"end_station_name\"])\n",
    "print(\"Missing Station names removed.\")"
   ]
  },
  {
   "cell_type": "code",
   "execution_count": null,
   "id": "38ffe526",
   "metadata": {},
   "outputs": [
    {
     "data": {
      "text/plain": [
       "ride_id               0\n",
       "rideable_type         0\n",
       "started_at            0\n",
       "ended_at              0\n",
       "start_station_name    0\n",
       "start_station_id      0\n",
       "end_station_name      0\n",
       "end_station_id        0\n",
       "start_lat             0\n",
       "start_lng             0\n",
       "end_lat               0\n",
       "end_lng               0\n",
       "member_casual         0\n",
       "dtype: int64"
      ]
     },
     "execution_count": 23,
     "metadata": {},
     "output_type": "execute_result"
    }
   ],
   "source": [
    "# To confirm that there aren't any missing values anymore.\n",
    "cyclist_data_raw.isnull().sum()"
   ]
  },
  {
   "cell_type": "code",
   "execution_count": 24,
   "id": "27202d7e",
   "metadata": {},
   "outputs": [
    {
     "name": "stdout",
     "output_type": "stream",
     "text": [
      "Datetime columns converted successfully.\n"
     ]
    }
   ],
   "source": [
    "cyclist_data_raw[\"started_at\"] = pd.to_datetime(cyclist_data_raw[\"started_at\"])\n",
    "cyclist_data_raw[\"ended_at\"] = pd.to_datetime(cyclist_data_raw[\"ended_at\"])\n",
    "\n",
    "print(\"Datetime columns converted successfully.\")"
   ]
  },
  {
   "cell_type": "code",
   "execution_count": null,
   "id": "1518308f",
   "metadata": {},
   "outputs": [],
   "source": [
    "# New coloumn that measures the length of each bike ride.\n",
    "cyclist_data_raw[\"ride_length\"] = (cyclist_data_raw[\"ended_at\"] - cyclist_data_raw[\"started_at\"]).dt.total_seconds() / 60"
   ]
  },
  {
   "cell_type": "code",
   "execution_count": 26,
   "id": "f41b8ebe",
   "metadata": {},
   "outputs": [
    {
     "data": {
      "text/plain": [
       "np.float64(22.115156973993056)"
      ]
     },
     "execution_count": 26,
     "metadata": {},
     "output_type": "execute_result"
    }
   ],
   "source": [
    "cyclist_data_raw[\"ride_length\"].mean()"
   ]
  },
  {
   "cell_type": "code",
   "execution_count": 27,
   "id": "05143ed0",
   "metadata": {},
   "outputs": [
    {
     "name": "stdout",
     "output_type": "stream",
     "text": [
      " Invalid rides romoved.\n"
     ]
    }
   ],
   "source": [
    "cyclist_data_raw = cyclist_data_raw[cyclist_data_raw[\"ride_length\"] > 0]\n",
    "print(\" Invalid rides romoved.\")"
   ]
  },
  {
   "cell_type": "code",
   "execution_count": null,
   "id": "67a2df40",
   "metadata": {},
   "outputs": [],
   "source": [
    "# New column that shows the days of week that the customers ride.\n",
    "cyclist_data_raw[\"day_of_week\"] = cyclist_data_raw[\"started_at\"].dt.day_name()"
   ]
  },
  {
   "cell_type": "code",
   "execution_count": 35,
   "id": "e5f63c57",
   "metadata": {},
   "outputs": [
    {
     "name": "stdout",
     "output_type": "stream",
     "text": [
      "Cleaned data saved as 'cyclist_cleaned.csv'\n"
     ]
    }
   ],
   "source": [
    "# Moving the new data into a new csv called 'cyclist_cleaned'.\n",
    "cyclist_data_raw.to_csv(\"cyclist_cleaned.csv\", index=False)\n",
    "print(\"Cleaned data saved as 'cyclist_cleaned.csv'\")"
   ]
  },
  {
   "cell_type": "markdown",
   "id": "d0f178db",
   "metadata": {},
   "source": [
    "04. Validating the Data."
   ]
  },
  {
   "cell_type": "code",
   "execution_count": 31,
   "id": "e067ff17",
   "metadata": {},
   "outputs": [
    {
     "name": "stdout",
     "output_type": "stream",
     "text": [
      "<class 'pandas.core.frame.DataFrame'>\n",
      "Index: 426677 entries, 0 to 426886\n",
      "Data columns (total 15 columns):\n",
      " #   Column              Non-Null Count   Dtype         \n",
      "---  ------              --------------   -----         \n",
      " 0   ride_id             426677 non-null  object        \n",
      " 1   rideable_type       426677 non-null  object        \n",
      " 2   started_at          426677 non-null  datetime64[ns]\n",
      " 3   ended_at            426677 non-null  datetime64[ns]\n",
      " 4   start_station_name  426677 non-null  object        \n",
      " 5   start_station_id    426677 non-null  int64         \n",
      " 6   end_station_name    426677 non-null  object        \n",
      " 7   end_station_id      426677 non-null  float64       \n",
      " 8   start_lat           426677 non-null  float64       \n",
      " 9   start_lng           426677 non-null  float64       \n",
      " 10  end_lat             426677 non-null  float64       \n",
      " 11  end_lng             426677 non-null  float64       \n",
      " 12  member_casual       426677 non-null  object        \n",
      " 13  ride_length         426677 non-null  float64       \n",
      " 14  day_of_week         426677 non-null  object        \n",
      "dtypes: datetime64[ns](2), float64(6), int64(1), object(6)\n",
      "memory usage: 52.1+ MB\n"
     ]
    }
   ],
   "source": [
    "cyclist_data_raw.info()"
   ]
  },
  {
   "cell_type": "code",
   "execution_count": 32,
   "id": "c1b732d1",
   "metadata": {},
   "outputs": [
    {
     "data": {
      "text/html": [
       "<div>\n",
       "<style scoped>\n",
       "    .dataframe tbody tr th:only-of-type {\n",
       "        vertical-align: middle;\n",
       "    }\n",
       "\n",
       "    .dataframe tbody tr th {\n",
       "        vertical-align: top;\n",
       "    }\n",
       "\n",
       "    .dataframe thead th {\n",
       "        text-align: right;\n",
       "    }\n",
       "</style>\n",
       "<table border=\"1\" class=\"dataframe\">\n",
       "  <thead>\n",
       "    <tr style=\"text-align: right;\">\n",
       "      <th></th>\n",
       "      <th>started_at</th>\n",
       "      <th>ended_at</th>\n",
       "      <th>start_station_id</th>\n",
       "      <th>end_station_id</th>\n",
       "      <th>start_lat</th>\n",
       "      <th>start_lng</th>\n",
       "      <th>end_lat</th>\n",
       "      <th>end_lng</th>\n",
       "      <th>ride_length</th>\n",
       "    </tr>\n",
       "  </thead>\n",
       "  <tbody>\n",
       "    <tr>\n",
       "      <th>count</th>\n",
       "      <td>426677</td>\n",
       "      <td>426677</td>\n",
       "      <td>426677.000000</td>\n",
       "      <td>426677.000000</td>\n",
       "      <td>426677.000000</td>\n",
       "      <td>426677.000000</td>\n",
       "      <td>426677.000000</td>\n",
       "      <td>426677.000000</td>\n",
       "      <td>426677.000000</td>\n",
       "    </tr>\n",
       "    <tr>\n",
       "      <th>mean</th>\n",
       "      <td>2020-02-14 01:02:57.727371776</td>\n",
       "      <td>2020-02-14 01:25:05.291665920</td>\n",
       "      <td>209.568838</td>\n",
       "      <td>209.109851</td>\n",
       "      <td>41.897850</td>\n",
       "      <td>-87.644139</td>\n",
       "      <td>41.898002</td>\n",
       "      <td>-87.644236</td>\n",
       "      <td>22.126072</td>\n",
       "    </tr>\n",
       "    <tr>\n",
       "      <th>min</th>\n",
       "      <td>2020-01-01 00:04:44</td>\n",
       "      <td>2020-01-01 00:10:54</td>\n",
       "      <td>2.000000</td>\n",
       "      <td>2.000000</td>\n",
       "      <td>41.736600</td>\n",
       "      <td>-87.774700</td>\n",
       "      <td>41.736600</td>\n",
       "      <td>-87.774700</td>\n",
       "      <td>0.016667</td>\n",
       "    </tr>\n",
       "    <tr>\n",
       "      <th>25%</th>\n",
       "      <td>2020-01-24 13:49:49</td>\n",
       "      <td>2020-01-24 14:05:06</td>\n",
       "      <td>77.000000</td>\n",
       "      <td>77.000000</td>\n",
       "      <td>41.880300</td>\n",
       "      <td>-87.655000</td>\n",
       "      <td>41.880300</td>\n",
       "      <td>-87.655500</td>\n",
       "      <td>5.483333</td>\n",
       "    </tr>\n",
       "    <tr>\n",
       "      <th>50%</th>\n",
       "      <td>2020-02-16 22:32:00</td>\n",
       "      <td>2020-02-16 23:37:21</td>\n",
       "      <td>176.000000</td>\n",
       "      <td>175.000000</td>\n",
       "      <td>41.890600</td>\n",
       "      <td>-87.639900</td>\n",
       "      <td>41.890600</td>\n",
       "      <td>-87.640600</td>\n",
       "      <td>9.166667</td>\n",
       "    </tr>\n",
       "    <tr>\n",
       "      <th>75%</th>\n",
       "      <td>2020-03-05 14:43:44</td>\n",
       "      <td>2020-03-05 15:06:24</td>\n",
       "      <td>297.000000</td>\n",
       "      <td>296.000000</td>\n",
       "      <td>41.916000</td>\n",
       "      <td>-87.629500</td>\n",
       "      <td>41.916000</td>\n",
       "      <td>-87.629500</td>\n",
       "      <td>15.833333</td>\n",
       "    </tr>\n",
       "    <tr>\n",
       "      <th>max</th>\n",
       "      <td>2020-03-31 23:51:34</td>\n",
       "      <td>2020-05-19 20:10:34</td>\n",
       "      <td>675.000000</td>\n",
       "      <td>675.000000</td>\n",
       "      <td>42.064900</td>\n",
       "      <td>-87.549400</td>\n",
       "      <td>42.064900</td>\n",
       "      <td>-87.549400</td>\n",
       "      <td>156450.400000</td>\n",
       "    </tr>\n",
       "    <tr>\n",
       "      <th>std</th>\n",
       "      <td>NaN</td>\n",
       "      <td>NaN</td>\n",
       "      <td>162.936362</td>\n",
       "      <td>162.912269</td>\n",
       "      <td>0.038088</td>\n",
       "      <td>0.022657</td>\n",
       "      <td>0.038324</td>\n",
       "      <td>0.022653</td>\n",
       "      <td>619.193669</td>\n",
       "    </tr>\n",
       "  </tbody>\n",
       "</table>\n",
       "</div>"
      ],
      "text/plain": [
       "                          started_at                       ended_at  \\\n",
       "count                         426677                         426677   \n",
       "mean   2020-02-14 01:02:57.727371776  2020-02-14 01:25:05.291665920   \n",
       "min              2020-01-01 00:04:44            2020-01-01 00:10:54   \n",
       "25%              2020-01-24 13:49:49            2020-01-24 14:05:06   \n",
       "50%              2020-02-16 22:32:00            2020-02-16 23:37:21   \n",
       "75%              2020-03-05 14:43:44            2020-03-05 15:06:24   \n",
       "max              2020-03-31 23:51:34            2020-05-19 20:10:34   \n",
       "std                              NaN                            NaN   \n",
       "\n",
       "       start_station_id  end_station_id      start_lat      start_lng  \\\n",
       "count     426677.000000   426677.000000  426677.000000  426677.000000   \n",
       "mean         209.568838      209.109851      41.897850     -87.644139   \n",
       "min            2.000000        2.000000      41.736600     -87.774700   \n",
       "25%           77.000000       77.000000      41.880300     -87.655000   \n",
       "50%          176.000000      175.000000      41.890600     -87.639900   \n",
       "75%          297.000000      296.000000      41.916000     -87.629500   \n",
       "max          675.000000      675.000000      42.064900     -87.549400   \n",
       "std          162.936362      162.912269       0.038088       0.022657   \n",
       "\n",
       "             end_lat        end_lng    ride_length  \n",
       "count  426677.000000  426677.000000  426677.000000  \n",
       "mean       41.898002     -87.644236      22.126072  \n",
       "min        41.736600     -87.774700       0.016667  \n",
       "25%        41.880300     -87.655500       5.483333  \n",
       "50%        41.890600     -87.640600       9.166667  \n",
       "75%        41.916000     -87.629500      15.833333  \n",
       "max        42.064900     -87.549400  156450.400000  \n",
       "std         0.038324       0.022653     619.193669  "
      ]
     },
     "execution_count": 32,
     "metadata": {},
     "output_type": "execute_result"
    }
   ],
   "source": [
    "cyclist_data_raw.describe()"
   ]
  },
  {
   "cell_type": "code",
   "execution_count": 33,
   "id": "cfccbd8d",
   "metadata": {},
   "outputs": [
    {
     "data": {
      "text/plain": [
       "member_casual\n",
       "member    378407\n",
       "casual     48270\n",
       "Name: count, dtype: int64"
      ]
     },
     "execution_count": 33,
     "metadata": {},
     "output_type": "execute_result"
    }
   ],
   "source": [
    "cyclist_data_raw[\"member_casual\"].value_counts()"
   ]
  }
 ],
 "metadata": {
  "kernelspec": {
   "display_name": "Python 3",
   "language": "python",
   "name": "python3"
  },
  "language_info": {
   "codemirror_mode": {
    "name": "ipython",
    "version": 3
   },
   "file_extension": ".py",
   "mimetype": "text/x-python",
   "name": "python",
   "nbconvert_exporter": "python",
   "pygments_lexer": "ipython3",
   "version": "3.13.5"
  }
 },
 "nbformat": 4,
 "nbformat_minor": 5
}
